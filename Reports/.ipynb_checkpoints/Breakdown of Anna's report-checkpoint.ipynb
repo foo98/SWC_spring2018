{
 "cells": [
  {
   "cell_type": "code",
   "execution_count": 2,
   "metadata": {
    "collapsed": false
   },
   "outputs": [
    {
     "name": "stdout",
     "output_type": "stream",
     "text": [
      "       country continent  year  lifeExp       pop   gdpPercap\n",
      "0  Afghanistan      Asia  1952   28.801   8425333  779.445314\n",
      "1  Afghanistan      Asia  1957   30.332   9240934  820.853030\n",
      "2  Afghanistan      Asia  1962   31.997  10267083  853.100710\n",
      "3  Afghanistan      Asia  1967   34.020  11537966  836.197138\n",
      "4  Afghanistan      Asia  1972   36.088  13079460  739.981106\n"
     ]
    }
   ],
   "source": [
    "import plotnine\n",
    "from plotnine import *\n",
    "import pandas as pd\n",
    "\n",
    "#read data into Python\n",
    "myData=pd.read_table(\"Data/gapminder.txt\")\n",
    "\n",
    "#view first few lines of the dataset\n",
    "print(myData.head())"
   ]
  },
  {
   "cell_type": "code",
   "execution_count": 3,
   "metadata": {
    "collapsed": true
   },
   "outputs": [],
   "source": [
    "def SelectDataByCont(df,continents_list):\n",
    "    \"\"\"select data for continents given in the 'continents_list' from a dataframe 'df'\"\"\"    \n",
    "    dataSubset=df.loc[df['continent'].isin(continents_list),:]\n",
    "    return dataSubset"
   ]
  },
  {
   "cell_type": "code",
   "execution_count": 9,
   "metadata": {
    "collapsed": false
   },
   "outputs": [
    {
     "name": "stdout",
     "output_type": "stream",
     "text": [
      "    country continent  year  lifeExp       pop    gdpPercap\n",
      "24  Algeria    Africa  1952   43.077   9279525  2449.008185\n",
      "25  Algeria    Africa  1957   45.685  10270856  3013.976023\n",
      "26  Algeria    Africa  1962   48.303  11000948  2550.816880\n",
      "27  Algeria    Africa  1967   51.407  12760499  3246.991771\n",
      "28  Algeria    Africa  1972   54.518  14760787  4182.663766\n",
      "['Africa' 'Americas']\n"
     ]
    }
   ],
   "source": [
    "cont_list=['Americas','Africa']\n",
    "dataSubset=myData.loc[myData['continent'].isin(cont_list),:]\n",
    "print(dataSubset.head())\n",
    "print(pd.unique(dataSubset['continent']))"
   ]
  },
  {
   "cell_type": "code",
   "execution_count": 10,
   "metadata": {
    "collapsed": false
   },
   "outputs": [
    {
     "data": {
      "text/plain": [
       "pandas.core.frame.DataFrame"
      ]
     },
     "execution_count": 10,
     "metadata": {},
     "output_type": "execute_result"
    }
   ],
   "source": [
    "type(dataSubset)"
   ]
  },
  {
   "cell_type": "code",
   "execution_count": 11,
   "metadata": {
    "collapsed": false
   },
   "outputs": [
    {
     "name": "stdout",
     "output_type": "stream",
     "text": [
      "[1952 1957 1962 1967 1972 1977 1982 1987 1992 1997 2002 2007]\n"
     ]
    }
   ],
   "source": [
    "print(pd.unique(dataSubset['year']))"
   ]
  },
  {
   "cell_type": "code",
   "execution_count": 16,
   "metadata": {
    "collapsed": false
   },
   "outputs": [
    {
     "name": "stdout",
     "output_type": "stream",
     "text": [
      "    country continent  year  lifeExp       pop    gdpPercap\n",
      "24  Algeria    Africa  1952   43.077   9279525  2449.008185\n",
      "25  Algeria    Africa  1957   45.685  10270856  3013.976023\n"
     ]
    }
   ],
   "source": [
    "newData=SelectDataByCont(myData,cont_list)\n",
    "print(newData.head(2))"
   ]
  },
  {
   "cell_type": "code",
   "execution_count": null,
   "metadata": {
    "collapsed": true
   },
   "outputs": [],
   "source": []
  }
 ],
 "metadata": {
  "kernelspec": {
   "display_name": "Python 3",
   "language": "python",
   "name": "python3"
  },
  "language_info": {
   "codemirror_mode": {
    "name": "ipython",
    "version": 3
   },
   "file_extension": ".py",
   "mimetype": "text/x-python",
   "name": "python",
   "nbconvert_exporter": "python",
   "pygments_lexer": "ipython3",
   "version": "3.6.0"
  }
 },
 "nbformat": 4,
 "nbformat_minor": 2
}
